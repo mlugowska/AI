{
  "nbformat": 4,
  "nbformat_minor": 0,
  "metadata": {
    "colab": {
      "name": "simple-nn.ipynb",
      "version": "0.3.2",
      "provenance": [],
      "collapsed_sections": [],
      "include_colab_link": true
    },
    "kernelspec": {
      "name": "python3",
      "display_name": "Python 3"
    },
    "accelerator": "TPU"
  },
  "cells": [
    {
      "cell_type": "markdown",
      "metadata": {
        "id": "view-in-github",
        "colab_type": "text"
      },
      "source": [
        "<a href=\"https://colab.research.google.com/github/mlugowska/AI/blob/master/simple_nn.ipynb\" target=\"_parent\"><img src=\"https://colab.research.google.com/assets/colab-badge.svg\" alt=\"Open In Colab\"/></a>"
      ]
    },
    {
      "metadata": {
        "id": "5Qy9aJazvn6a",
        "colab_type": "code",
        "colab": {}
      },
      "cell_type": "code",
      "source": [
        "# XOR\n",
        "import numpy as np\n",
        "from keras.models import Sequential\n",
        "from keras.layers.core import Activation, Dense\n",
        "\n",
        "training_data = np.array([[0,0],[0,1],[1,0],[1,1]], \"float32\")\n",
        "target_data = np.array([[0],[1],[1],[0]], \"float32\")\n",
        "\n",
        "model = Sequential()\n",
        "model.add(Dense(16, input_dim=2, activation='relu'))\n",
        "model.add(Dense(1, activation='sigmoid'))\n",
        "\n",
        "model.compile(loss='mean_squared_error',\n",
        "              optimizer='adam',\n",
        "              metrics=['binary_accuracy'])\n",
        "\n",
        "model.fit(training_data, target_data, nb_epoch=500, verbose=2)\n",
        "\n",
        "# print(model.predict(training_data).round())"
      ],
      "execution_count": 0,
      "outputs": []
    },
    {
      "metadata": {
        "id": "g1gBJYCN-T1G",
        "colab_type": "code",
        "colab": {}
      },
      "cell_type": "code",
      "source": [
        "# the sum of numbers\n",
        "from random import randint\n",
        "from numpy import array\n",
        "from keras.layers import Dense\n",
        "from keras.models import Sequential\n",
        "\n",
        "\n",
        "def create_data():\n",
        "  X, y = list(), list()\n",
        "  for i in range(100):\n",
        "    in_pattern = [randint(1,100) for _ in range(2)]\n",
        "    out_pattern = sum(in_pattern)\n",
        "    print(in_pattern, out_pattern)\n",
        "    X.append(in_pattern)\n",
        "    y.append(out_pattern)\n",
        "    \n",
        "  # format as NumPy arrays\n",
        "  X,y = array(X), array(y)\n",
        "  # normalize\n",
        "  X = X.astype('float') / float(100 * 2)\n",
        "  y = y.astype('float') / float(100 * 2)\n",
        "\n",
        "  return X, y\n",
        "\n",
        "X, y = create_data()"
      ],
      "execution_count": 0,
      "outputs": []
    },
    {
      "metadata": {
        "id": "Wys6FC4_JXae",
        "colab_type": "code",
        "colab": {}
      },
      "cell_type": "code",
      "source": [
        "model = Sequential()\n",
        "model.add(Dense(4, input_dim=2))\n",
        "model.add(Dense(2))\n",
        "model.add(Dense(1))\n",
        "model.compile(loss='mean_squared_error', optimizer='adam')"
      ],
      "execution_count": 0,
      "outputs": []
    },
    {
      "metadata": {
        "id": "eZPDS8XR-hvg",
        "colab_type": "code",
        "colab": {}
      },
      "cell_type": "code",
      "source": [
        "model.fit(X, y, epochs=50, batch_size=1)\n",
        "result = model.predict(X, batch_size=1)\n",
        "\n",
        "# invert normalization\n",
        "def invert(value, n_numbers, largest):\n",
        "\treturn round(value * float(largest * n_numbers))\n",
        "\n",
        "expected = [invert(x, 2, 100) for x in y]\n",
        "predicted = [invert(x, 2, 100) for x in result[:,0]]\n",
        "\n",
        "for i in range(20):\n",
        "\tprint(f'Expected={expected}, Predicted={predicted}')"
      ],
      "execution_count": 0,
      "outputs": []
    },
    {
      "metadata": {
        "id": "iEyCHCaQGWix",
        "colab_type": "code",
        "colab": {}
      },
      "cell_type": "code",
      "source": [
        "https://medium.com/@mukundsharma1995/working-with-titanic-dataset-using-keras-solving-a-simple-classification-problem-440e3860e8fd\n",
        "https://machinelearningmastery.com/learn-add-numbers-seq2seq-recurrent-neural-networks/"
      ],
      "execution_count": 0,
      "outputs": []
    }
  ]
}